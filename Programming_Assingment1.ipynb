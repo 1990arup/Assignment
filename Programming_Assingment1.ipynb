{
 "cells": [
  {
   "cell_type": "markdown",
   "id": "c22b7ea9",
   "metadata": {},
   "source": [
    "# 1.\tWrite a Python program to print \"Hello Python\"?"
   ]
  },
  {
   "cell_type": "code",
   "execution_count": 1,
   "id": "6e7a6e07",
   "metadata": {},
   "outputs": [
    {
     "name": "stdout",
     "output_type": "stream",
     "text": [
      "Hello Python\n"
     ]
    }
   ],
   "source": [
    "print(\"Hello Python\")"
   ]
  },
  {
   "cell_type": "markdown",
   "id": "b88707a9",
   "metadata": {},
   "source": [
    "# 2.\tWrite a Python program to do arithmetical operations addition and division.?"
   ]
  },
  {
   "cell_type": "code",
   "execution_count": 2,
   "id": "f34b6d44",
   "metadata": {},
   "outputs": [
    {
     "name": "stdout",
     "output_type": "stream",
     "text": [
      "Enter the First Number: 1000\n",
      "Enter the Second Number: 500\n",
      "Result of Addition:  1500\n",
      "Result of Division:  2.0\n"
     ]
    }
   ],
   "source": [
    "num1 = int(input(\"Enter the First Number: \"))\n",
    "num2 = int(input(\"Enter the Second Number: \"))\n",
    "add = num1 + num2\n",
    "div = num1 / num2\n",
    "print(\"Result of Addition: \",add)\n",
    "print(\"Result of Division: \",div)"
   ]
  },
  {
   "cell_type": "markdown",
   "id": "7b989340",
   "metadata": {},
   "source": [
    "# 3.\tWrite a Python program to find the area of a triangle?"
   ]
  },
  {
   "cell_type": "code",
   "execution_count": 3,
   "id": "ca899398",
   "metadata": {},
   "outputs": [
    {
     "name": "stdout",
     "output_type": "stream",
     "text": [
      "Enter the base of the triangle: 10\n",
      "Enter the height of the triangle: 30\n",
      "Area of the triangle is :  150.0\n"
     ]
    }
   ],
   "source": [
    "base = int(input(\"Enter the base of the triangle: \"))\n",
    "height = int(input(\"Enter the height of the triangle: \"))\n",
    "area = base*height/2\n",
    "print(\"Area of the triangle is : \",area)"
   ]
  },
  {
   "cell_type": "markdown",
   "id": "4fefc898",
   "metadata": {},
   "source": [
    "# 4.\tWrite a Python program to swap two variables?"
   ]
  },
  {
   "cell_type": "code",
   "execution_count": 13,
   "id": "790c390b",
   "metadata": {},
   "outputs": [
    {
     "name": "stdout",
     "output_type": "stream",
     "text": [
      "Enter the 1st number: 100\n",
      "Enter the 2nd number: 200\n",
      "The value of 1st number after swapping :  200 \n",
      "The value of 2nd number after swapping :  100\n"
     ]
    }
   ],
   "source": [
    "num1 = int(input(\"Enter the 1st number: \"))\n",
    "num2 = int(input(\"Enter the 2nd number: \"))\n",
    "a = num1\n",
    "num1 = num2\n",
    "num2 = a\n",
    "print(\"The value of 1st number after swapping : \", num1, \"\\nThe value of 2nd number after swapping : \", num2) \n"
   ]
  },
  {
   "cell_type": "markdown",
   "id": "c17dfd16",
   "metadata": {},
   "source": [
    "# 5.\tWrite a Python program to generate a random number?"
   ]
  },
  {
   "cell_type": "code",
   "execution_count": 18,
   "id": "dcb2f86a",
   "metadata": {},
   "outputs": [
    {
     "name": "stdout",
     "output_type": "stream",
     "text": [
      "22\n"
     ]
    }
   ],
   "source": [
    "import random\n",
    "rand_num = random.randint(1,100)\n",
    "print(rand_num)"
   ]
  }
 ],
 "metadata": {
  "kernelspec": {
   "display_name": "Python 3 (ipykernel)",
   "language": "python",
   "name": "python3"
  },
  "language_info": {
   "codemirror_mode": {
    "name": "ipython",
    "version": 3
   },
   "file_extension": ".py",
   "mimetype": "text/x-python",
   "name": "python",
   "nbconvert_exporter": "python",
   "pygments_lexer": "ipython3",
   "version": "3.9.12"
  }
 },
 "nbformat": 4,
 "nbformat_minor": 5
}
