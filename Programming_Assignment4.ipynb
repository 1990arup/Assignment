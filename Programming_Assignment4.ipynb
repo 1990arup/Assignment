{
 "cells": [
  {
   "cell_type": "markdown",
   "id": "7d6fb667",
   "metadata": {},
   "source": [
    "# 1.\tWrite a Python Program to Find the Factorial of a Number?"
   ]
  },
  {
   "cell_type": "code",
   "execution_count": 3,
   "id": "e18c984c",
   "metadata": {},
   "outputs": [
    {
     "name": "stdout",
     "output_type": "stream",
     "text": [
      "Enter the number: 5\n",
      "The factorial of a given number is:  120\n"
     ]
    }
   ],
   "source": [
    "num = int(input(\"Enter the number: \"))\n",
    "while(1):\n",
    "    for i in range(1,num):\n",
    "        num = num* i\n",
    "    break\n",
    "print(\"The factorial of a given number is: \",num)\n",
    "    "
   ]
  },
  {
   "cell_type": "markdown",
   "id": "64b05c10",
   "metadata": {},
   "source": [
    "# 2.\tWrite a Python Program to Display the multiplication Table?"
   ]
  },
  {
   "cell_type": "code",
   "execution_count": 6,
   "id": "35333faa",
   "metadata": {},
   "outputs": [
    {
     "name": "stdout",
     "output_type": "stream",
     "text": [
      "Enter the multiplication table number: 2\n",
      "2 X 1 = 2\n",
      "2 X 2 = 4\n",
      "2 X 3 = 6\n",
      "2 X 4 = 8\n",
      "2 X 5 = 10\n",
      "2 X 6 = 12\n",
      "2 X 7 = 14\n",
      "2 X 8 = 16\n",
      "2 X 9 = 18\n",
      "2 X 10 = 20\n"
     ]
    }
   ],
   "source": [
    "num = int(input(\"Enter the multiplication table number: \"))\n",
    "while(1):\n",
    "    for i in range(1,11):\n",
    "        print(num,\"X\",i,\"=\",num*i)\n",
    "    break"
   ]
  },
  {
   "cell_type": "markdown",
   "id": "16fbea76",
   "metadata": {},
   "source": [
    "# 3.\tWrite a Python Program to Print the Fibonacci sequence?"
   ]
  },
  {
   "cell_type": "code",
   "execution_count": 1,
   "id": "449183dc",
   "metadata": {},
   "outputs": [
    {
     "name": "stdout",
     "output_type": "stream",
     "text": [
      "Enter the range of fibonacci number :10\n",
      "0\n",
      "1\n",
      "1\n",
      "2\n",
      "3\n",
      "5\n",
      "8\n",
      "13\n",
      "21\n",
      "34\n"
     ]
    }
   ],
   "source": [
    "num = int(input(\"Enter the range of fibonacci number :\"))\n",
    "num1 = 0\n",
    "num2 = 1\n",
    "print(num1)\n",
    "print(num2)\n",
    "while(1):\n",
    "    for i in range(2,num):\n",
    "        num3 = num1 + num2\n",
    "        print(num3)\n",
    "        num1 = num2\n",
    "        num2 = num3\n",
    "    break\n",
    "    "
   ]
  },
  {
   "cell_type": "markdown",
   "id": "0e29fd83",
   "metadata": {},
   "source": [
    "# 4.\tWrite a Python Program to Check Armstrong Number?"
   ]
  },
  {
   "cell_type": "code",
   "execution_count": 34,
   "id": "7deda574",
   "metadata": {},
   "outputs": [
    {
     "name": "stdout",
     "output_type": "stream",
     "text": [
      "Enter the number that to be checked: 50\n",
      "It's not a Armstrong Number\n"
     ]
    }
   ],
   "source": [
    "num = int(input(\"Enter the number that to be checked: \"))\n",
    "l=len(str(num))\n",
    "temp = num\n",
    "x = 0\n",
    "while(num>0):\n",
    "    for i in range(0,l):\n",
    "        y = num % 10\n",
    "        z=1\n",
    "        for j in range(0,l):\n",
    "            z = z*y\n",
    "        x=x+z\n",
    "        num = int(num/10)\n",
    "        break\n",
    "if(x==temp):\n",
    "    print(\"It's a Armstrong Number\")\n",
    "else:\n",
    "    print(\"It's not a Armstrong Number\")  "
   ]
  },
  {
   "cell_type": "markdown",
   "id": "090c7df2",
   "metadata": {},
   "source": [
    "# 5.\tWrite a Python Program to Find Armstrong Number in an Interval?"
   ]
  },
  {
   "cell_type": "code",
   "execution_count": 25,
   "id": "6f1e7b43",
   "metadata": {},
   "outputs": [
    {
     "name": "stdout",
     "output_type": "stream",
     "text": [
      "Enter the lower range of an interval: 0\n",
      "Enter the upper range of an interval: 2000\n",
      "Armstrong numbers between 0  to  2000  are : \n",
      "0\n",
      "1\n",
      "2\n",
      "3\n",
      "4\n",
      "5\n",
      "6\n",
      "7\n",
      "8\n",
      "9\n",
      "153\n",
      "370\n",
      "371\n",
      "407\n",
      "1634\n"
     ]
    }
   ],
   "source": [
    "lower_limit = int(input(\"Enter the lower range of an interval: \"))\n",
    "upper_limit = int(input(\"Enter the upper range of an interval: \"))\n",
    "print(\"Armstrong numbers between\",lower_limit,\" to \",upper_limit,\" are : \")\n",
    "for i in range(lower_limit,upper_limit+1):\n",
    "    \n",
    "        l=len(str(i))\n",
    "        x=0\n",
    "        temp=i\n",
    "        while(i>0):\n",
    "            for j in range(0,l):\n",
    "                z=i%10\n",
    "                y=1\n",
    "                for k in range(0,l):\n",
    "                    y=y*z\n",
    "                x=x+y\n",
    "                \n",
    "                i=int(i/10)\n",
    "                break\n",
    "        if(temp==x):\n",
    "            print(temp)\n",
    "        \n",
    "    \n",
    "pass\n"
   ]
  },
  {
   "cell_type": "markdown",
   "id": "45830c3f",
   "metadata": {},
   "source": [
    "# 6.\tWrite a Python Program to Find the Sum of Natural Numbers?"
   ]
  },
  {
   "cell_type": "code",
   "execution_count": 35,
   "id": "b51817ba",
   "metadata": {},
   "outputs": [
    {
     "name": "stdout",
     "output_type": "stream",
     "text": [
      "Enter the last number of the series of natural number: 10\n",
      "Sum of natural numbers of the series is  55.0\n"
     ]
    }
   ],
   "source": [
    "num=int(input(\"Enter the last number of the series of natural number: \"))\n",
    "print(\"Sum of natural numbers of the series is \",num*(num+1)/2)"
   ]
  },
  {
   "cell_type": "code",
   "execution_count": null,
   "id": "66a34cbc",
   "metadata": {},
   "outputs": [],
   "source": []
  }
 ],
 "metadata": {
  "kernelspec": {
   "display_name": "Python 3 (ipykernel)",
   "language": "python",
   "name": "python3"
  },
  "language_info": {
   "codemirror_mode": {
    "name": "ipython",
    "version": 3
   },
   "file_extension": ".py",
   "mimetype": "text/x-python",
   "name": "python",
   "nbconvert_exporter": "python",
   "pygments_lexer": "ipython3",
   "version": "3.9.12"
  }
 },
 "nbformat": 4,
 "nbformat_minor": 5
}
