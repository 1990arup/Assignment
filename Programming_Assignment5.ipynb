{
 "cells": [
  {
   "cell_type": "markdown",
   "id": "617d9d3e",
   "metadata": {},
   "source": [
    "# 1.\tWrite a Python Program to Find LCM?"
   ]
  },
  {
   "cell_type": "code",
   "execution_count": 14,
   "id": "63127365",
   "metadata": {},
   "outputs": [
    {
     "name": "stdout",
     "output_type": "stream",
     "text": [
      " Please Enter the First Value x: 2\n",
      " Please Enter the Second Value y: 3\n",
      "LCM of 2 and 3 is:  6\n"
     ]
    }
   ],
   "source": [
    "x = int(input(\" Please Enter the First Value x: \"))\n",
    "y = int(input(\" Please Enter the Second Value y: \"))\n",
    " \n",
    "if(x > y):\n",
    "    z = x\n",
    "else:\n",
    "    z = y\n",
    " \n",
    "while(1):\n",
    "    if(z % x == 0 and z % y == 0):\n",
    "        print(\"LCM of\",x,\"and\",y,\"is: \",z)\n",
    "        break;\n",
    "    z = z + 1"
   ]
  },
  {
   "cell_type": "markdown",
   "id": "3ddfe107",
   "metadata": {},
   "source": [
    "# 2.\tWrite a Python Program to Find HCF?"
   ]
  },
  {
   "cell_type": "code",
   "execution_count": 23,
   "id": "d29f504a",
   "metadata": {},
   "outputs": [
    {
     "name": "stdout",
     "output_type": "stream",
     "text": [
      " Please Enter the First Value x: 20\n",
      " Please Enter the Second Value y: 30\n",
      "The HCF of 20 and 30 is:  10\n"
     ]
    }
   ],
   "source": [
    "x = int(input(\" Please Enter the First Value x: \"))\n",
    "y = int(input(\" Please Enter the Second Value y: \"))\n",
    " \n",
    "if(x < y):\n",
    "    z = x\n",
    "else:\n",
    "    z = y\n",
    "for i in range(1,z+1):\n",
    "    if(x % i == 0 and y % i == 0):\n",
    "        hcf=i\n",
    "print(\"The HCF of\",x,\"and\",y,\"is: \",hcf)"
   ]
  },
  {
   "cell_type": "markdown",
   "id": "3bb26282",
   "metadata": {},
   "source": [
    "# 3.\tWrite a Python Program to Convert Decimal to Binary, Octal and Hexadecimal?"
   ]
  },
  {
   "cell_type": "code",
   "execution_count": 2,
   "id": "780ed0ea",
   "metadata": {},
   "outputs": [
    {
     "name": "stdout",
     "output_type": "stream",
     "text": [
      "Enter the decimal number: 312\n",
      "Conversion to binary:  0b100111000\n",
      "Conversion to octal:  0o470\n",
      "Conversion to hexadecimal:  0x138\n"
     ]
    }
   ],
   "source": [
    "decimal = int(input(\"Enter the decimal number: \"))\n",
    "print(\"Conversion to binary: \",bin(decimal))\n",
    "print(\"Conversion to octal: \",oct(decimal))\n",
    "print(\"Conversion to hexadecimal: \",hex(decimal))"
   ]
  },
  {
   "cell_type": "markdown",
   "id": "aae7b340",
   "metadata": {},
   "source": [
    "# 4.\tWrite a Python Program To Find ASCII value of a character?"
   ]
  },
  {
   "cell_type": "code",
   "execution_count": 5,
   "id": "e8c09915",
   "metadata": {},
   "outputs": [
    {
     "name": "stdout",
     "output_type": "stream",
     "text": [
      "Enter the character: a\n",
      "The ASCII value is:  97\n"
     ]
    }
   ],
   "source": [
    "char = input(\"Enter the character: \")\n",
    "print(\"The ASCII value is: \",ord(char))"
   ]
  },
  {
   "cell_type": "markdown",
   "id": "0e986070",
   "metadata": {},
   "source": [
    "# 5.\tWrite a Python Program to Make a Simple Calculator with 4 basic mathematical operations?"
   ]
  },
  {
   "cell_type": "code",
   "execution_count": 8,
   "id": "f211b31c",
   "metadata": {},
   "outputs": [
    {
     "name": "stdout",
     "output_type": "stream",
     "text": [
      " Please Enter the First number : 5\n",
      " Please Enter the Second number: 5\n",
      " What you want to do in mathematical operation: \n",
      "/\n",
      "Division of 5 & 5 = 1.0\n"
     ]
    }
   ],
   "source": [
    "x = int(input(\" Please Enter the First number : \"))\n",
    "y = int(input(\" Please Enter the Second number: \"))\n",
    "print(\" What you want to do in mathematical operation: \")\n",
    "z = input()\n",
    "if z==\"+\":\n",
    "    print(\"Addition of\",x,\"&\",y,\"=\",x+y)\n",
    "elif z==\"-\":\n",
    "    print(\"Substraction of\",x,\"&\",y,\"=\",x-y)\n",
    "elif z==\"*\":\n",
    "        print(\"Multiplication of\",x,\"&\",y,\"=\",x*y)\n",
    "elif z==\"/\":\n",
    "        print(\"Division of\",x,\"&\",y,\"=\",x/y)\n",
    "\n"
   ]
  }
 ],
 "metadata": {
  "kernelspec": {
   "display_name": "Python 3 (ipykernel)",
   "language": "python",
   "name": "python3"
  },
  "language_info": {
   "codemirror_mode": {
    "name": "ipython",
    "version": 3
   },
   "file_extension": ".py",
   "mimetype": "text/x-python",
   "name": "python",
   "nbconvert_exporter": "python",
   "pygments_lexer": "ipython3",
   "version": "3.9.12"
  }
 },
 "nbformat": 4,
 "nbformat_minor": 5
}
